{
 "cells": [
  {
   "cell_type": "code",
   "execution_count": 1,
   "metadata": {},
   "outputs": [],
   "source": [
    "import json\n",
    "file = '../Data/slots_data/rhet_data_slots_cleaned.json'"
   ]
  },
  {
   "cell_type": "code",
   "execution_count": 6,
   "metadata": {},
   "outputs": [
    {
     "name": "stdout",
     "output_type": "stream",
     "text": [
      "{'identification': {'NameOfCheese': 'None', 'QualityOfRind': 'None', 'AnimalSource': 'None', 'MainIngredient': 'None', 'MainIngredientWeight': 'None', 'NameOfCheesery': 'None', 'NamesOfFacilities': 'None', 'ManufacturePlace': 'None', 'ManufacturedSinceDate': 'None', 'CheeseOriginatedDate': 'None', 'CheeseCreatorMovedFromPlace': 'None', 'CheeseCreatorMovedToPlace': 'None', 'CheeseNameFromObject': 'None'}, 'description': {'CheeseProductFatContent': 'None', 'CheeseProductTexture': 'None', 'CheeseProductTaste': 'None', 'CheeseProductRind': 'None', 'CheeseProductColor': 'None', 'CheeseProductStyle': 'None', 'CheeseProductIsVegetarian': 'None', 'CheeseProductIsOrganic': 'None', 'CheeseProductIsUnpasteurised': 'None', 'CheeseProductIsPregnantOk': 'None', 'CheeseProductGeneralShape': 'None', 'CheeseProductWaxColor': 'None', 'CheeseProductInteriorColor': 'None', 'CheeseProductPrePackShape': 'None', 'CheeseProductPackWeight': 'None', 'CheeseProductSlices': 'None', 'CheeseProductCheeseType': 'None', 'CheeseProductMilkQuality': 'None', 'CheeseProductMilkQualityList': 'None', 'CheeseProductMilkAnimalSource': 'None', 'CheeseProductRennetOrigin': 'None', 'CheeseProductIngredientToMilk': 'None', 'CheeseProductIngredientToMilkColor': 'None', 'CheeseProductIngredients': 'None', 'CheeseProductMilkFat': 'None', 'CheeseProductMilkWater': 'None'}, 'process': {'CheeseName': 'None', 'TemperatureCurd': 'None', 'MinutesHeatedCurd': 'None', 'DaysMouldPressing': 'None', 'WeeksMouldResting': 'None', 'SkeweringAfterWeeks': 'None', 'ConsumptionAfterMonths': 'None', 'RindQuality': 'None', 'MouldColor': 'None', 'TypeWood': 'None', 'ProcessTimeInHours': 'None', 'ProcessingTypeOfMilkUsed': 'None', 'ProcessingTypeOfMilkNotUsed': 'None', 'AnimalMilk': 'None', 'CurdCutShape': 'None', 'CurdTurnIntervalMinutes': 'None', 'MouldShape': 'None', 'OriginOfRenet': 'None', 'CheeseAgingWeeks': 'None', 'PlantLeafWrap': 'None', 'NameOfCheesery': 'None', 'CheeseAgingDays': 'None', 'CheeseAgingMonths': 'None', 'CheeseAgingYears': 'None', 'CheeseMildAgingMonths': 'None', 'CheeseMatureAgingMonths': 'None', 'CheeseExtraMatureAgingMonths': 'None', 'CheeseVintageAgingMonths': 'None'}, 'smell_taste': {'CheeseName': 'None', 'TasteQuality': 'None', 'TasteQualityList': 'None', 'IngredientsList': 'None', 'AfterTaste': 'None', 'FoodComparison': 'None', 'AromaQuality': 'None'}, 'service_suggestions': {'ServeWithDishList': 'None', 'ListofUses': 'None', 'ListComparedWithCheese': 'None', 'BestPresentationItems': 'None', 'ComplementaryDishes': 'None', 'ComplementaryWines': 'None'}, 'quality_assurance': {'MedalType': 'None', 'Contest': 'None', 'ContestYear': 'None', 'ContestCategory': 'None', 'ContestPlace': 'None', 'Prize': 'None', 'Position': 'None', 'AnimalMilk': 'None', 'NameOfCheesery': 'None', 'RegisteredAnimal': 'None', 'ManufacturePlace': 'None'}}\n"
     ]
    }
   ],
   "source": [
    "json_temp = {}\n",
    "with open(file, 'r') as f:\n",
    "    contend = json.load(f)\n",
    "    first_key = list(contend.keys())[0]\n",
    "    value = contend[first_key]\n",
    "\n",
    "    for rhet, rhet_d in value.items():\n",
    "        slots = list(rhet_d['slots'].keys())\n",
    "\n",
    "        json_temp[rhet] = {x:\"None\" for x in slots}\n",
    "print(json_temp)\n"
   ]
  },
  {
   "cell_type": "code",
   "execution_count": 7,
   "metadata": {},
   "outputs": [],
   "source": [
    "write_file = '../configs/cheese_template.json'\n",
    "with open(write_file, 'w') as f:\n",
    "    json.dump(json_temp, f)"
   ]
  },
  {
   "cell_type": "code",
   "execution_count": null,
   "metadata": {},
   "outputs": [],
   "source": []
  }
 ],
 "metadata": {
  "kernelspec": {
   "display_name": "all_env",
   "language": "python",
   "name": "python3"
  },
  "language_info": {
   "codemirror_mode": {
    "name": "ipython",
    "version": 3
   },
   "file_extension": ".py",
   "mimetype": "text/x-python",
   "name": "python",
   "nbconvert_exporter": "python",
   "pygments_lexer": "ipython3",
   "version": "3.10.12"
  },
  "orig_nbformat": 4
 },
 "nbformat": 4,
 "nbformat_minor": 2
}
