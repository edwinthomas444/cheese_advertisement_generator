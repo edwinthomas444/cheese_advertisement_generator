{
 "cells": [
  {
   "cell_type": "code",
   "execution_count": 35,
   "id": "05b92321-3921-492b-9e36-245edb0ce1f9",
   "metadata": {},
   "outputs": [],
   "source": [
    "import os\n",
    "from tqdm import tqdm\n",
    "import glob\n",
    "import spacy\n",
    "import json\n",
    "from nltk.tokenize import sent_tokenize\n",
    "\n",
    "nlp = spacy.load(\"en_core_web_lg\")"
   ]
  },
  {
   "cell_type": "code",
   "execution_count": 36,
   "id": "0695cc3c-661b-4ed2-9e4b-fa75a5d86a31",
   "metadata": {},
   "outputs": [
    {
     "name": "stdout",
     "output_type": "stream",
     "text": [
      "600\n"
     ]
    }
   ],
   "source": [
    "template_json = '../Data/template_english_dict.jsonl'\n",
    "file_path = \"../Data/raw_data/\"\n",
    "files = glob.glob(file_path + \"*.txt\")\n",
    "print(len(files))"
   ]
  },
  {
   "cell_type": "code",
   "execution_count": 38,
   "id": "1d475843-0ce3-4730-9fa3-6d71aedac878",
   "metadata": {},
   "outputs": [
    {
     "name": "stderr",
     "output_type": "stream",
     "text": [
      "  0%|                                                                                          | 0/190 [00:00<?, ?it/s]C:\\Users\\edwin\\all_env1\\lib\\site-packages\\ipykernel_launcher.py:21: UserWarning: [W008] Evaluating Doc.similarity based on empty vectors.\n",
      "100%|███████████████████████████████████████████████████████████████████████████████| 190/190 [00:01<00:00, 161.29it/s]\n"
     ]
    },
    {
     "name": "stdout",
     "output_type": "stream",
     "text": [
      "Max score:  0.0\n",
      "Current line:  ﻿Bonchester\n",
      "Max score template line:  {'move': '1', 'step': '1', 'choice': 'A', 'sub_choice': 1, 'text': '(NAME OF CHEESE)'}\n"
     ]
    },
    {
     "name": "stderr",
     "output_type": "stream",
     "text": [
      "100%|███████████████████████████████████████████████████████████████████████████████| 190/190 [00:01<00:00, 161.91it/s]\n"
     ]
    },
    {
     "name": "stdout",
     "output_type": "stream",
     "text": [
      "Max score:  0.9474964863771164\n",
      "Current line:  Bonchester is a British cheese awarded with a Protected Designation of Origin (PDO).\n",
      "Max score template line:  {'move': '7', 'step': '1', 'choice': 'A', 'sub_choice': 1, 'text': '(CHEESE NAME) is a Protected Designation of Origin.'}\n"
     ]
    },
    {
     "name": "stderr",
     "output_type": "stream",
     "text": [
      "100%|███████████████████████████████████████████████████████████████████████████████| 190/190 [00:01<00:00, 163.14it/s]\n"
     ]
    },
    {
     "name": "stdout",
     "output_type": "stream",
     "text": [
      "Max score:  0.8212425253887461\n",
      "Current line:  The cheese was first developed on the Easter Weens Farm in 1980, on the border lands of England and Scotland, in Bonchester Bridge.\n",
      "Max score template line:  {'move': '4', 'step': '1', 'choice': 'A', 'sub_choice': 4, 'text': 'The cheese is still made in the traditional shape using the traditional method and skills. After the addition of starter culture and rennet to the milk, the curds are cut and scalded at a temperature of (NUMBER) °C with the whey for (NUMBER) minutes. The whey is then drained away leaving the curd which is milled and salted. The cheese is then moulded and mechanically pressed for up to (NUMBER) days and is ready for consumption at around (NUMBER) months.'}\n"
     ]
    },
    {
     "name": "stderr",
     "output_type": "stream",
     "text": [
      "100%|███████████████████████████████████████████████████████████████████████████████| 190/190 [00:01<00:00, 160.99it/s]\n"
     ]
    },
    {
     "name": "stdout",
     "output_type": "stream",
     "text": [
      "Max score:  0.7985371718886507\n",
      "Current line:  Bonchester Bridge is in Roxburghshire, Scotland.\n",
      "Max score template line:  {'move': '4', 'step': '2', 'choice': 'A', 'sub_choice': 9, 'text': 'Once made, the cheese is matured in carefully controlled conditions, and turned daily for up to (NUMBER) months, until each batch is graded, ready for sale, by the cheese maker.'}\n"
     ]
    },
    {
     "name": "stderr",
     "output_type": "stream",
     "text": [
      "100%|███████████████████████████████████████████████████████████████████████████████| 190/190 [00:01<00:00, 164.41it/s]\n"
     ]
    },
    {
     "name": "stdout",
     "output_type": "stream",
     "text": [
      "Max score:  0.9030130686883356\n",
      "Current line:  However, the cheese is currently not in production.\n",
      "Max score template line:  {'move': '4', 'step': '2', 'choice': 'A', 'sub_choice': 9, 'text': 'Once made, the cheese is matured in carefully controlled conditions, and turned daily for up to (NUMBER) months, until each batch is graded, ready for sale, by the cheese maker.'}\n"
     ]
    },
    {
     "name": "stderr",
     "output_type": "stream",
     "text": [
      "100%|███████████████████████████████████████████████████████████████████████████████| 190/190 [00:01<00:00, 158.41it/s]\n"
     ]
    },
    {
     "name": "stdout",
     "output_type": "stream",
     "text": [
      "Max score:  0.8778686328928211\n",
      "Current line:  Shaped in small, round flat cylinders and coated with a white rind, Bonchester is made from unpasteurized Jersey cow’s milk.\n",
      "Max score template line:  {'move': '4', 'step': '2', 'choice': 'A', 'sub_choice': 9, 'text': 'Once made, the cheese is matured in carefully controlled conditions, and turned daily for up to (NUMBER) months, until each batch is graded, ready for sale, by the cheese maker.'}\n"
     ]
    },
    {
     "name": "stderr",
     "output_type": "stream",
     "text": [
      "100%|███████████████████████████████████████████████████████████████████████████████| 190/190 [00:01<00:00, 163.76it/s]\n"
     ]
    },
    {
     "name": "stdout",
     "output_type": "stream",
     "text": [
      "Max score:  0.8906085273962642\n",
      "Current line:  A young Bonchester is clean and mild in flavor but often develops a stronger and more flavor as it ages.\n",
      "Max score template line:  {'move': '5', 'step': '1', 'choice': 'A', 'sub_choice': 19, 'text': 'It has a (QUALITY) taste and aroma and is clean on the palate with a very slightly tangy finish.'}\n"
     ]
    },
    {
     "name": "stderr",
     "output_type": "stream",
     "text": [
      "100%|███████████████████████████████████████████████████████████████████████████████| 190/190 [00:01<00:00, 164.27it/s]\n"
     ]
    },
    {
     "name": "stdout",
     "output_type": "stream",
     "text": [
      "Max score:  0.9178406646421552\n",
      "Current line:  The rind color also deepens from yellow to deep yellow depending on the degree of ripening.\n",
      "Max score template line:  {'move': '4', 'step': '1', 'choice': 'A', 'sub_choice': 19, 'text': 'The cheese is then sealed with cloth or other wrapping material and at about (NUMBER) weeks of age the cheese is pierced with stainless steel needles to allow air to enter the body of the cheeses. This activates the blue mould which then proceeds to break down the protein in the cheese and create the blue veins.'}\n"
     ]
    },
    {
     "name": "stderr",
     "output_type": "stream",
     "text": [
      "100%|███████████████████████████████████████████████████████████████████████████████| 190/190 [00:01<00:00, 164.22it/s]\n"
     ]
    },
    {
     "name": "stdout",
     "output_type": "stream",
     "text": [
      "Max score:  0.8300873666813116\n",
      "Current line:  Close and smooth in texture, the cheese contains a minimum of 20% milk fat and a maximum of 60% water.\n",
      "Max score template line:  {'move': '3', 'step': '2', 'choice': 'B', 'sub_choice': 3, 'text': 'The cheese contains a minimum of (NUMBER) % milk fat and a maximum of (NUMBER) % water.'}\n"
     ]
    },
    {
     "name": "stderr",
     "output_type": "stream",
     "text": [
      "100%|███████████████████████████████████████████████████████████████████████████████| 190/190 [00:01<00:00, 157.59it/s]\n"
     ]
    },
    {
     "name": "stdout",
     "output_type": "stream",
     "text": [
      "Max score:  0.7265921371773061\n",
      "Current line:  Bonchester is a past bronze medal winner at the British Cheese Awards and was Champion Cheese at the Royal Highland Show.\n",
      "Max score template line:  {'move': '4', 'step': '1', 'choice': 'A', 'sub_choice': 4, 'text': 'The cheese is still made in the traditional shape using the traditional method and skills. After the addition of starter culture and rennet to the milk, the curds are cut and scalded at a temperature of (NUMBER) °C with the whey for (NUMBER) minutes. The whey is then drained away leaving the curd which is milled and salted. The cheese is then moulded and mechanically pressed for up to (NUMBER) days and is ready for consumption at around (NUMBER) months.'}\n"
     ]
    },
    {
     "name": "stderr",
     "output_type": "stream",
     "text": [
      "100%|███████████████████████████████████████████████████████████████████████████████| 190/190 [00:01<00:00, 157.45it/s]\n"
     ]
    },
    {
     "name": "stdout",
     "output_type": "stream",
     "text": [
      "Max score:  0.46114050741121365\n",
      "Current line:  Made from cow's milk\n",
      "Max score template line:  {'move': '4', 'step': '1', 'choice': 'A', 'sub_choice': 16, 'text': 'Once the curds are produced, the whey is drained off.'}\n"
     ]
    },
    {
     "name": "stderr",
     "output_type": "stream",
     "text": [
      "100%|███████████████████████████████████████████████████████████████████████████████| 190/190 [00:01<00:00, 164.92it/s]\n"
     ]
    },
    {
     "name": "stdout",
     "output_type": "stream",
     "text": [
      "Max score:  0.8074705857031972\n",
      "Current line:  Country of origin: Scotland and United Kingdom\n",
      "Max score template line:  {'move': '7', 'step': '1', 'choice': 'A', 'sub_choice': 6, 'text': 'The (TYPE OF CHEESE) recipe and methods are protected and accredited with Protected Designation of Origin (PDO) status. This is recognised worldwide and safeguards the future production and quality of one of the (PLACE) most cherished treasures.'}\n"
     ]
    },
    {
     "name": "stderr",
     "output_type": "stream",
     "text": [
      "100%|███████████████████████████████████████████████████████████████████████████████| 190/190 [00:01<00:00, 164.29it/s]\n"
     ]
    },
    {
     "name": "stdout",
     "output_type": "stream",
     "text": [
      "Max score:  0.6798257224731699\n",
      "Current line:  Region: Roxburghshire\n",
      "Max score template line:  {'move': '1', 'step': '3', 'choice': 'A', 'sub_choice': 1, 'text': 'Country of origin: (COUNTRY)\\nRegion: (REGION)'}\n"
     ]
    },
    {
     "name": "stderr",
     "output_type": "stream",
     "text": [
      "100%|███████████████████████████████████████████████████████████████████████████████| 190/190 [00:01<00:00, 163.73it/s]\n"
     ]
    },
    {
     "name": "stdout",
     "output_type": "stream",
     "text": [
      "Max score:  0.554702388816666\n",
      "Current line:  Type: soft, artisan\n",
      "Max score template line:  {'move': '3', 'step': '2', 'choice': 'B', 'sub_choice': 5, 'text': 'Other varieties with added flavours such as (INGREDIENTS) are available.'}\n"
     ]
    },
    {
     "name": "stderr",
     "output_type": "stream",
     "text": [
      "100%|███████████████████████████████████████████████████████████████████████████████| 190/190 [00:01<00:00, 164.58it/s]\n"
     ]
    },
    {
     "name": "stdout",
     "output_type": "stream",
     "text": [
      "Max score:  0.6164161850196704\n",
      "Current line:  Fat content: 20%\n",
      "Max score template line:  {'move': '3', 'step': '2', 'choice': 'B', 'sub_choice': 3, 'text': 'The cheese contains a minimum of (NUMBER) % milk fat and a maximum of (NUMBER) % water.'}\n"
     ]
    },
    {
     "name": "stderr",
     "output_type": "stream",
     "text": [
      "100%|███████████████████████████████████████████████████████████████████████████████| 190/190 [00:01<00:00, 159.90it/s]\n"
     ]
    },
    {
     "name": "stdout",
     "output_type": "stream",
     "text": [
      "Max score:  0.5966210392945137\n",
      "Current line:  Texture: close and smooth\n",
      "Max score template line:  {'move': '6', 'step': '2', 'choice': 'A', 'sub_choice': 4, 'text': 'Perfectly smooth, creamy and full flavoured when added to a (DISH).'}\n"
     ]
    },
    {
     "name": "stderr",
     "output_type": "stream",
     "text": [
      "100%|███████████████████████████████████████████████████████████████████████████████| 190/190 [00:01<00:00, 164.28it/s]\n"
     ]
    },
    {
     "name": "stdout",
     "output_type": "stream",
     "text": [
      "Max score:  0.5233638705259085\n",
      "Current line:  Rind: natural\n",
      "Max score template line:  {'move': '3', 'step': '1', 'choice': 'A', 'sub_choice': 1, 'text': 'Fat content: (NUMBER) %\\nTexture: (QUALITY)\\nRind: (QUALITY)\\nColor: (COLOR)'}\n"
     ]
    },
    {
     "name": "stderr",
     "output_type": "stream",
     "text": [
      "100%|███████████████████████████████████████████████████████████████████████████████| 190/190 [00:01<00:00, 163.12it/s]"
     ]
    },
    {
     "name": "stdout",
     "output_type": "stream",
     "text": [
      "Max score:  0.5775913577265477\n",
      "Current line:  Color: yellow\n",
      "Max score template line:  {'move': '3', 'step': '1', 'choice': 'A', 'sub_choice': 1, 'text': 'Fat content: (NUMBER) %\\nTexture: (QUALITY)\\nRind: (QUALITY)\\nColor: (COLOR)'}\n"
     ]
    },
    {
     "name": "stderr",
     "output_type": "stream",
     "text": [
      "\n"
     ]
    }
   ],
   "source": [
    "for file in files[1:]:\n",
    "    with open(file, 'r', encoding='utf-8') as f, open(template_json, 'r') as f1:\n",
    "        lines = f.readlines()\n",
    "        template_lines = f1.readlines()\n",
    "        for line in lines:\n",
    "            line = line.strip().strip('- ')\n",
    "            if \"\\n\" in line or \"\\r\" in line or not line:\n",
    "                continue\n",
    "            \n",
    "            split_lines = sent_tokenize(line)\n",
    "            for line in split_lines:\n",
    "                max_score = -1\n",
    "                doc2 = nlp(line)\n",
    "\n",
    "                for temp_line in tqdm(template_lines, total=len(template_lines)):\n",
    "                    temp_line = json.loads(temp_line.strip())\n",
    "                    # obtain the text\n",
    "                    temp_line_text = temp_line['text']\n",
    "                    doc1 = nlp(temp_line_text)\n",
    "\n",
    "                    sim_score = doc2.similarity(doc1)\n",
    "                    if sim_score > max_score:\n",
    "                        max_score = sim_score\n",
    "                        max_score_temp_line = temp_line\n",
    "\n",
    "                print('Max score: ', max_score)\n",
    "                print('Current line: ', line)\n",
    "                print('Max score template line: ', max_score_temp_line)\n",
    "            \n",
    "    break"
   ]
  },
  {
   "cell_type": "code",
   "execution_count": null,
   "id": "e9b126be-c4af-4a13-9c55-abe881407484",
   "metadata": {},
   "outputs": [],
   "source": [
    "\n"
   ]
  },
  {
   "cell_type": "code",
   "execution_count": null,
   "id": "db2b149d-3ee2-4383-a11d-f0d3877e153d",
   "metadata": {},
   "outputs": [],
   "source": []
  }
 ],
 "metadata": {
  "kernelspec": {
   "display_name": "all_env1",
   "language": "python",
   "name": "all_env1"
  },
  "language_info": {
   "codemirror_mode": {
    "name": "ipython",
    "version": 3
   },
   "file_extension": ".py",
   "mimetype": "text/x-python",
   "name": "python",
   "nbconvert_exporter": "python",
   "pygments_lexer": "ipython3",
   "version": "3.7.9"
  }
 },
 "nbformat": 4,
 "nbformat_minor": 5
}
