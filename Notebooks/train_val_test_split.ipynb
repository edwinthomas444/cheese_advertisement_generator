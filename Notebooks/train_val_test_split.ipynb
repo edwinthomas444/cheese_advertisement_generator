{
 "cells": [
  {
   "cell_type": "code",
   "execution_count": 19,
   "metadata": {},
   "outputs": [],
   "source": [
    "import json\n",
    "import random\n",
    "from sklearn.model_selection import train_test_split\n",
    "import numpy as np"
   ]
  },
  {
   "cell_type": "code",
   "execution_count": 20,
   "metadata": {},
   "outputs": [],
   "source": [
    "read_file = '../Data/slots_data/rhet_data_slots_cleaned.json'\n",
    "write_file_train = '../Data/slots_data/rhet_data_slots_cleaned_train.json'\n",
    "write_file_val = '../Data/slots_data/rhet_data_slots_cleaned_val.json'\n",
    "write_file_test = '../Data/slots_data/rhet_data_slots_cleaned_test.json'"
   ]
  },
  {
   "cell_type": "code",
   "execution_count": 21,
   "metadata": {},
   "outputs": [],
   "source": [
    "with open(read_file, 'r') as f, open(write_file_train, 'w') as f_train, \\\n",
    "    open(write_file_test, 'w') as f_test, open(write_file_val, 'w') as f_val:\n",
    "    rd = json.load(f)\n",
    "    total_entries = len(list(rd.keys()))\n",
    "    X = np.arange(total_entries)\n",
    "\n",
    "    # split ratio 70%, 15%, 15%\n",
    "    x_train, x_test = train_test_split(X, test_size=0.3)\n",
    "    x_test, x_val = train_test_split(x_test, test_size=0.5)\n",
    "    \n",
    "\n",
    "    train_records = {f:rd[f] for i, (f, _) in enumerate(rd.items()) if i in x_train}\n",
    "    val_records = {f:rd[f] for i, (f, _) in enumerate(rd.items()) if i in x_val}\n",
    "    test_records = {f:rd[f] for i, (f, _) in enumerate(rd.items()) if i in x_test}\n",
    "\n",
    "    json.dump(train_records, f_train)\n",
    "    json.dump(val_records, f_val)\n",
    "    json.dump(test_records, f_test)\n"
   ]
  },
  {
   "cell_type": "code",
   "execution_count": 24,
   "metadata": {},
   "outputs": [
    {
     "name": "stdout",
     "output_type": "stream",
     "text": [
      "420\n",
      "90\n",
      "90\n"
     ]
    }
   ],
   "source": [
    "print(len(train_records.items()))\n",
    "print(len(val_records.items()))\n",
    "print(len(test_records.items()))"
   ]
  }
 ],
 "metadata": {
  "kernelspec": {
   "display_name": "all_env",
   "language": "python",
   "name": "python3"
  },
  "language_info": {
   "codemirror_mode": {
    "name": "ipython",
    "version": 3
   },
   "file_extension": ".py",
   "mimetype": "text/x-python",
   "name": "python",
   "nbconvert_exporter": "python",
   "pygments_lexer": "ipython3",
   "version": "3.10.12"
  },
  "orig_nbformat": 4
 },
 "nbformat": 4,
 "nbformat_minor": 2
}
